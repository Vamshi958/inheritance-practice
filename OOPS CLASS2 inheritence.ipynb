{
 "cells": [
  {
   "cell_type": "code",
   "execution_count": null,
   "id": "168ee612-0616-4275-bc2e-380850bc2189",
   "metadata": {},
   "outputs": [],
   "source": [
    "INHERITANCE--TRYING TO ADAPT THE CHARACTERISTICS OF ANCESTORS\n",
    "REUSABILITY CODE"
   ]
  },
  {
   "cell_type": "code",
   "execution_count": 2,
   "id": "083cf311-f314-4c0d-a8d0-8d0be295b478",
   "metadata": {},
   "outputs": [],
   "source": [
    "class a:\n",
    "    def test(self):\n",
    "        print(\"this test method is a part of class A\")"
   ]
  },
  {
   "cell_type": "code",
   "execution_count": 4,
   "id": "00fa3699-f704-4d77-8510-aeebedac4ea8",
   "metadata": {},
   "outputs": [],
   "source": [
    "vamshi=a()"
   ]
  },
  {
   "cell_type": "code",
   "execution_count": 9,
   "id": "8ae6a5d0-06bb-4edd-8b63-b4634b1d6fc5",
   "metadata": {},
   "outputs": [
    {
     "name": "stdout",
     "output_type": "stream",
     "text": [
      "this test method is a part of class A\n"
     ]
    }
   ],
   "source": [
    "vamshi.test()"
   ]
  },
  {
   "cell_type": "code",
   "execution_count": 11,
   "id": "bf80922c-07c8-4a8d-a598-9fdf44acb950",
   "metadata": {},
   "outputs": [],
   "source": [
    "class b:\n",
    "    def test(self):\n",
    "        print(\"this test method is a part of class A\")"
   ]
  },
  {
   "cell_type": "code",
   "execution_count": 13,
   "id": "9a5c6b51-8cd3-4330-b6cf-4464211206c3",
   "metadata": {},
   "outputs": [
    {
     "name": "stdout",
     "output_type": "stream",
     "text": [
      "this test method is a part of class A\n"
     ]
    }
   ],
   "source": [
    "obj=b()\n",
    "obj.test()"
   ]
  },
  {
   "cell_type": "code",
   "execution_count": 17,
   "id": "2cfbc09e-32c1-433c-b551-040171546949",
   "metadata": {},
   "outputs": [],
   "source": [
    "#USING REUSABILITY---INHERITENCE\n",
    "class b(a):\n",
    "       pass\n",
    "    "
   ]
  },
  {
   "cell_type": "code",
   "execution_count": 19,
   "id": "e97a3e79-965a-474a-adcb-f0f1ebd8da43",
   "metadata": {},
   "outputs": [
    {
     "name": "stdout",
     "output_type": "stream",
     "text": [
      "this test method is a part of class A\n"
     ]
    }
   ],
   "source": [
    "#use class a inside class b\n",
    "obj2=b()\n",
    "obj2.test()"
   ]
  },
  {
   "cell_type": "code",
   "execution_count": 20,
   "id": "c26cc988-4bc7-4b2b-b693-6434fba8032f",
   "metadata": {},
   "outputs": [],
   "source": [
    "class a:\n",
    "    def test(self):\n",
    "        print(\"this test method is a part of class A\")\n",
    "    def test1(self):\n",
    "        print(\"this test1 from class a\")"
   ]
  },
  {
   "cell_type": "code",
   "execution_count": 21,
   "id": "e9fd6636-3a73-4b52-868a-338457e83195",
   "metadata": {},
   "outputs": [],
   "source": [
    "class b(a):\n",
    "    pass"
   ]
  },
  {
   "cell_type": "code",
   "execution_count": 22,
   "id": "2dbb10b3-affe-4caa-a341-ba53096b80ba",
   "metadata": {},
   "outputs": [
    {
     "name": "stdout",
     "output_type": "stream",
     "text": [
      "this test1 from class a\n"
     ]
    }
   ],
   "source": [
    "obj_b=b()\n",
    "obj_b.test1()"
   ]
  },
  {
   "cell_type": "code",
   "execution_count": 23,
   "id": "b0c02519-7397-42f4-83b8-db580775b5eb",
   "metadata": {},
   "outputs": [],
   "source": [
    "class b(a):\n",
    "    def test1b(self):\n",
    "        print(\"this is a part of class b\")"
   ]
  },
  {
   "cell_type": "code",
   "execution_count": 25,
   "id": "b789c342-fa05-45b8-b336-ac4f9cfd1f71",
   "metadata": {},
   "outputs": [
    {
     "name": "stdout",
     "output_type": "stream",
     "text": [
      "this is a part of class b\n"
     ]
    }
   ],
   "source": [
    "priya=b()\n",
    "priya.test1b()"
   ]
  },
  {
   "cell_type": "code",
   "execution_count": 26,
   "id": "2261900e-d251-435b-a2fe-d1fc44489f65",
   "metadata": {},
   "outputs": [],
   "source": [
    "class lecture:\n",
    "    def topic(self):\n",
    "        print(\"todays clas swe are discusiing about inheritance concept in oops\")\n",
    "    def timings(self):\n",
    "        print(\"timings for today's class is 9 am IST\")\n",
    "    def end_time(self):\n",
    "        print(\"today i will try to end class bit early\")"
   ]
  },
  {
   "cell_type": "code",
   "execution_count": 27,
   "id": "262bed4a-2555-4751-a929-df073244c838",
   "metadata": {},
   "outputs": [],
   "source": [
    "class student(lecture):\n",
    "    def student_details(self):\n",
    "        print(\"this class will give you a student details\")"
   ]
  },
  {
   "cell_type": "code",
   "execution_count": 28,
   "id": "0c6c02ae-5733-41b1-8ed7-ff08bc1c78e3",
   "metadata": {},
   "outputs": [
    {
     "name": "stdout",
     "output_type": "stream",
     "text": [
      "todays clas swe are discusiing about inheritance concept in oops\n"
     ]
    }
   ],
   "source": [
    "priya=student()\n",
    "priya.topic()"
   ]
  },
  {
   "cell_type": "code",
   "execution_count": 29,
   "id": "bb364a18-b622-481e-9e8e-01e7646fa812",
   "metadata": {},
   "outputs": [
    {
     "name": "stdout",
     "output_type": "stream",
     "text": [
      "timings for today's class is 9 am IST\n"
     ]
    }
   ],
   "source": [
    "vamshi=student()\n",
    "vamshi.timings()"
   ]
  },
  {
   "cell_type": "code",
   "execution_count": 37,
   "id": "8ea55f98-404b-47e4-84d8-b6df87db7a80",
   "metadata": {},
   "outputs": [],
   "source": [
    "class teacher(student): #multilevel inheritance\n",
    "    def details(self):\n",
    "        print(\"this will give you a details about teacher\")"
   ]
  },
  {
   "cell_type": "code",
   "execution_count": 32,
   "id": "216fff0e-0745-41c3-a642-2b3161d11dc2",
   "metadata": {},
   "outputs": [
    {
     "name": "stdout",
     "output_type": "stream",
     "text": [
      "this will give you a details about teacher\n"
     ]
    }
   ],
   "source": [
    "loch=teacher()\n",
    "loch.details()"
   ]
  },
  {
   "cell_type": "code",
   "execution_count": 17,
   "id": "7d5470c0-e875-44ac-a702-0f88c7ad7c13",
   "metadata": {},
   "outputs": [],
   "source": [
    "#another way\n",
    "class lecture:\n",
    "    def topic(self):\n",
    "        print(\"todays clas swe are discusiing about inheritance concept in oops\")\n",
    "    def timings(self):\n",
    "        print(\"timings for today's class is 9 am IST\")\n",
    "    def end_time(self):\n",
    "        print(\"today i will try to end class bit early\")"
   ]
  },
  {
   "cell_type": "code",
   "execution_count": 18,
   "id": "9c679f2d-bea9-4bdc-be83-57135007b0dc",
   "metadata": {},
   "outputs": [],
   "source": [
    "class student(lecture):\n",
    "    def student_details(self):\n",
    "        print(\"this class will give you a student details\")"
   ]
  },
  {
   "cell_type": "code",
   "execution_count": 19,
   "id": "494c75d4-50fd-44ef-9eb4-21f3538e88b2",
   "metadata": {},
   "outputs": [],
   "source": [
    "class teacher(student):\n",
    "    def details(self):\n",
    "        print(\"this will give you a details about teacher\")"
   ]
  },
  {
   "cell_type": "code",
   "execution_count": 20,
   "id": "bc51a84e-e222-4bff-919f-4254d9cd91af",
   "metadata": {},
   "outputs": [],
   "source": [
    "#use class lecture ,student in teacher class-------multiple inheritance--teacheer inherit student and lecture\n",
    "class teacher(student,lecture):\n",
    "    def details(self):\n",
    "        print(\"this will give you a details about teacher\")"
   ]
  },
  {
   "cell_type": "code",
   "execution_count": 21,
   "id": "79cc8560-d4ae-4aba-a75c-55f6a42770af",
   "metadata": {},
   "outputs": [],
   "source": [
    "sag=teacher()"
   ]
  },
  {
   "cell_type": "code",
   "execution_count": 22,
   "id": "f2b7960e-4468-4ef9-9f76-acfbf0056857",
   "metadata": {},
   "outputs": [
    {
     "name": "stdout",
     "output_type": "stream",
     "text": [
      "this will give you a details about teacher\n"
     ]
    }
   ],
   "source": [
    "sag.details()"
   ]
  },
  {
   "cell_type": "code",
   "execution_count": 23,
   "id": "ea195830-32eb-4dab-9fd8-e8445aff3d4d",
   "metadata": {},
   "outputs": [
    {
     "name": "stdout",
     "output_type": "stream",
     "text": [
      "today i will try to end class bit early\n"
     ]
    }
   ],
   "source": [
    "sag.end_time()"
   ]
  },
  {
   "cell_type": "code",
   "execution_count": 24,
   "id": "56e49948-cc54-4097-8b50-db35ed4c7324",
   "metadata": {},
   "outputs": [],
   "source": [
    "#i am trying to do multiple inheritance function with same name\n",
    "class student(lecture):\n",
    "    def student_details(self):\n",
    "        print(\"this class will give you a student details\")\n",
    "    def timings(self):\n",
    "        print(\"this is a timing fun from mstudent class\")\n"
   ]
  },
  {
   "cell_type": "code",
   "execution_count": 26,
   "id": "664ba30f-72a9-4554-91fc-ccc3ea437091",
   "metadata": {},
   "outputs": [],
   "source": [
    "class teacher(student,lecture):\n",
    "    def details(self):\n",
    "        print(\"this will give you a details about teacher\")"
   ]
  },
  {
   "cell_type": "code",
   "execution_count": 27,
   "id": "70eab0fe-c2fd-443a-a354-f462b476c894",
   "metadata": {},
   "outputs": [],
   "source": [
    "pra=teacher()"
   ]
  },
  {
   "cell_type": "code",
   "execution_count": 28,
   "id": "920b65b7-93b0-4535-aac4-8f1c187c45bf",
   "metadata": {},
   "outputs": [
    {
     "name": "stdout",
     "output_type": "stream",
     "text": [
      "this is a timing fun from mstudent class\n"
     ]
    }
   ],
   "source": [
    "pra.timings() #NOW WE HAVE CONFLICT BCZ IN BOTH CLASS WE HAVE SAME FUN WITHN SAME NAME\n",
    "#IT IS SHOWING FROM  STU CLASS WHY---"
   ]
  },
  {
   "cell_type": "code",
   "execution_count": null,
   "id": "8f2844e4-ac97-4a03-8932-8c661251df5e",
   "metadata": {},
   "outputs": [],
   "source": [
    "******do assignments 10 questions*****"
   ]
  },
  {
   "cell_type": "code",
   "execution_count": null,
   "id": "bf3f7d33-4ece-4164-888d-0ae38c6eb30d",
   "metadata": {},
   "outputs": [],
   "source": []
  },
  {
   "cell_type": "code",
   "execution_count": null,
   "id": "845fe510-030f-4b0a-84f2-f8659b157d5c",
   "metadata": {},
   "outputs": [],
   "source": []
  },
  {
   "cell_type": "code",
   "execution_count": null,
   "id": "ebba258c-6eee-417f-925a-90600b4ed223",
   "metadata": {},
   "outputs": [],
   "source": []
  },
  {
   "cell_type": "code",
   "execution_count": null,
   "id": "5829ee66-970a-4bac-9e8a-d628dc45e320",
   "metadata": {},
   "outputs": [],
   "source": []
  }
 ],
 "metadata": {
  "kernelspec": {
   "display_name": "Python 3 (ipykernel)",
   "language": "python",
   "name": "python3"
  },
  "language_info": {
   "codemirror_mode": {
    "name": "ipython",
    "version": 3
   },
   "file_extension": ".py",
   "mimetype": "text/x-python",
   "name": "python",
   "nbconvert_exporter": "python",
   "pygments_lexer": "ipython3",
   "version": "3.10.8"
  }
 },
 "nbformat": 4,
 "nbformat_minor": 5
}
